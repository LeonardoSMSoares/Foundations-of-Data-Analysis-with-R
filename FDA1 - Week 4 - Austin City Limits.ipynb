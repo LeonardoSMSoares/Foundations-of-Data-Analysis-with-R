{
 "cells": [
  {
   "cell_type": "markdown",
   "metadata": {},
   "source": [
    "# Foundations of Data Analysis 1 - Week 4 - Austin City Limits"
   ]
  },
  {
   "cell_type": "markdown",
   "metadata": {},
   "source": [
    "Known as the “Live Music Capital of the World,” Austin, Texas is also home to the longest-running music series in American television history, Austin City Limits.  This dataset includes data on a sample of musicians that performed live on the PBS television series Austin City Limits over the last 10 years.  Data on each artist include measures of commercial popularity, such as the number of social media followers on Twitter or Facebook, and their success in winning a Grammy Music Award. "
   ]
  },
  {
   "cell_type": "markdown",
   "metadata": {},
   "source": [
    "**For artists age 30 or older, do female artists play different kinds of music on Austin City Limits than male artists?**"
   ]
  },
  {
   "cell_type": "code",
   "execution_count": 1,
   "metadata": {},
   "outputs": [
    {
     "data": {
      "text/html": [
       "<table>\n",
       "<caption>A data.frame: 6 × 14</caption>\n",
       "<thead>\n",
       "\t<tr><th></th><th scope=col>Artist</th><th scope=col>Year</th><th scope=col>Month</th><th scope=col>Season</th><th scope=col>Gender</th><th scope=col>Age</th><th scope=col>Age.Group</th><th scope=col>Grammy</th><th scope=col>Genre</th><th scope=col>BB.wk.top10</th><th scope=col>Twitter</th><th scope=col>Twitter.100k</th><th scope=col>Facebook</th><th scope=col>Facebook.100k</th></tr>\n",
       "\t<tr><th></th><th scope=col>&lt;fct&gt;</th><th scope=col>&lt;int&gt;</th><th scope=col>&lt;fct&gt;</th><th scope=col>&lt;fct&gt;</th><th scope=col>&lt;fct&gt;</th><th scope=col>&lt;int&gt;</th><th scope=col>&lt;fct&gt;</th><th scope=col>&lt;fct&gt;</th><th scope=col>&lt;fct&gt;</th><th scope=col>&lt;int&gt;</th><th scope=col>&lt;int&gt;</th><th scope=col>&lt;int&gt;</th><th scope=col>&lt;int&gt;</th><th scope=col>&lt;int&gt;</th></tr>\n",
       "</thead>\n",
       "<tbody>\n",
       "\t<tr><th scope=row>1</th><td>Aimee Mann         </td><td>2008</td><td>November</td><td>fall  </td><td>F</td><td>52</td><td>Fifties or Older</td><td>Y</td><td>Singer-Songwriter</td><td> 0</td><td>101870</td><td>1</td><td> 113576</td><td>1</td></tr>\n",
       "\t<tr><th scope=row>2</th><td>Alabama Shakes     </td><td>2013</td><td>February</td><td>winter</td><td>F</td><td>24</td><td>Twenties        </td><td>N</td><td>Rock/Folk/Indie  </td><td> 1</td><td> 73313</td><td>0</td><td> 298278</td><td>1</td></tr>\n",
       "\t<tr><th scope=row>3</th><td>Allen Toussaint    </td><td>2009</td><td>January </td><td>winter</td><td>M</td><td>75</td><td>Fifties or Older</td><td>N</td><td>Jazz/Blues       </td><td>NA</td><td>308634</td><td>1</td><td>  10721</td><td>0</td></tr>\n",
       "\t<tr><th scope=row>4</th><td>Andrew Bird        </td><td>2009</td><td>October </td><td>fall  </td><td>M</td><td>39</td><td>Thirties        </td><td>N</td><td>Rock/Folk/Indie  </td><td> 1</td><td> 56343</td><td>0</td><td> 318313</td><td>1</td></tr>\n",
       "\t<tr><th scope=row>5</th><td>Arcade Fire        </td><td>2007</td><td>November</td><td>fall  </td><td>F</td><td>33</td><td>Thirties        </td><td>Y</td><td>Rock/Folk/Indie  </td><td> 1</td><td>404439</td><td>1</td><td>1711685</td><td>1</td></tr>\n",
       "\t<tr><th scope=row>6</th><td>Asleep at the Wheel</td><td>2009</td><td>November</td><td>fall  </td><td>M</td><td>62</td><td>Fifties or Older</td><td>Y</td><td>Country          </td><td> 0</td><td>  3326</td><td>0</td><td>  27321</td><td>0</td></tr>\n",
       "</tbody>\n",
       "</table>\n"
      ],
      "text/latex": [
       "A data.frame: 6 × 14\n",
       "\\begin{tabular}{r|llllllllllllll}\n",
       "  & Artist & Year & Month & Season & Gender & Age & Age.Group & Grammy & Genre & BB.wk.top10 & Twitter & Twitter.100k & Facebook & Facebook.100k\\\\\n",
       "  & <fct> & <int> & <fct> & <fct> & <fct> & <int> & <fct> & <fct> & <fct> & <int> & <int> & <int> & <int> & <int>\\\\\n",
       "\\hline\n",
       "\t1 & Aimee Mann          & 2008 & November & fall   & F & 52 & Fifties or Older & Y & Singer-Songwriter &  0 & 101870 & 1 &  113576 & 1\\\\\n",
       "\t2 & Alabama Shakes      & 2013 & February & winter & F & 24 & Twenties         & N & Rock/Folk/Indie   &  1 &  73313 & 0 &  298278 & 1\\\\\n",
       "\t3 & Allen Toussaint     & 2009 & January  & winter & M & 75 & Fifties or Older & N & Jazz/Blues        & NA & 308634 & 1 &   10721 & 0\\\\\n",
       "\t4 & Andrew Bird         & 2009 & October  & fall   & M & 39 & Thirties         & N & Rock/Folk/Indie   &  1 &  56343 & 0 &  318313 & 1\\\\\n",
       "\t5 & Arcade Fire         & 2007 & November & fall   & F & 33 & Thirties         & Y & Rock/Folk/Indie   &  1 & 404439 & 1 & 1711685 & 1\\\\\n",
       "\t6 & Asleep at the Wheel & 2009 & November & fall   & M & 62 & Fifties or Older & Y & Country           &  0 &   3326 & 0 &   27321 & 0\\\\\n",
       "\\end{tabular}\n"
      ],
      "text/markdown": [
       "\n",
       "A data.frame: 6 × 14\n",
       "\n",
       "| <!--/--> | Artist &lt;fct&gt; | Year &lt;int&gt; | Month &lt;fct&gt; | Season &lt;fct&gt; | Gender &lt;fct&gt; | Age &lt;int&gt; | Age.Group &lt;fct&gt; | Grammy &lt;fct&gt; | Genre &lt;fct&gt; | BB.wk.top10 &lt;int&gt; | Twitter &lt;int&gt; | Twitter.100k &lt;int&gt; | Facebook &lt;int&gt; | Facebook.100k &lt;int&gt; |\n",
       "|---|---|---|---|---|---|---|---|---|---|---|---|---|---|---|\n",
       "| 1 | Aimee Mann          | 2008 | November | fall   | F | 52 | Fifties or Older | Y | Singer-Songwriter |  0 | 101870 | 1 |  113576 | 1 |\n",
       "| 2 | Alabama Shakes      | 2013 | February | winter | F | 24 | Twenties         | N | Rock/Folk/Indie   |  1 |  73313 | 0 |  298278 | 1 |\n",
       "| 3 | Allen Toussaint     | 2009 | January  | winter | M | 75 | Fifties or Older | N | Jazz/Blues        | NA | 308634 | 1 |   10721 | 0 |\n",
       "| 4 | Andrew Bird         | 2009 | October  | fall   | M | 39 | Thirties         | N | Rock/Folk/Indie   |  1 |  56343 | 0 |  318313 | 1 |\n",
       "| 5 | Arcade Fire         | 2007 | November | fall   | F | 33 | Thirties         | Y | Rock/Folk/Indie   |  1 | 404439 | 1 | 1711685 | 1 |\n",
       "| 6 | Asleep at the Wheel | 2009 | November | fall   | M | 62 | Fifties or Older | Y | Country           |  0 |   3326 | 0 |   27321 | 0 |\n",
       "\n"
      ],
      "text/plain": [
       "  Artist              Year Month    Season Gender Age Age.Group        Grammy\n",
       "1 Aimee Mann          2008 November fall   F      52  Fifties or Older Y     \n",
       "2 Alabama Shakes      2013 February winter F      24  Twenties         N     \n",
       "3 Allen Toussaint     2009 January  winter M      75  Fifties or Older N     \n",
       "4 Andrew Bird         2009 October  fall   M      39  Thirties         N     \n",
       "5 Arcade Fire         2007 November fall   F      33  Thirties         Y     \n",
       "6 Asleep at the Wheel 2009 November fall   M      62  Fifties or Older Y     \n",
       "  Genre             BB.wk.top10 Twitter Twitter.100k Facebook Facebook.100k\n",
       "1 Singer-Songwriter  0          101870  1             113576  1            \n",
       "2 Rock/Folk/Indie    1           73313  0             298278  1            \n",
       "3 Jazz/Blues        NA          308634  1              10721  0            \n",
       "4 Rock/Folk/Indie    1           56343  0             318313  1            \n",
       "5 Rock/Folk/Indie    1          404439  1            1711685  1            \n",
       "6 Country            0            3326  0              27321  0            "
      ]
     },
     "metadata": {},
     "output_type": "display_data"
    }
   ],
   "source": [
    "acl <- read.csv(\"data/AustinCityLimits.csv\")\n",
    "head(acl)"
   ]
  },
  {
   "cell_type": "markdown",
   "metadata": {},
   "source": [
    "How many artists are in this dataset?"
   ]
  },
  {
   "cell_type": "code",
   "execution_count": 2,
   "metadata": {
    "scrolled": true
   },
   "outputs": [
    {
     "name": "stdout",
     "output_type": "stream",
     "text": [
      "'data.frame':\t116 obs. of  14 variables:\n",
      " $ Artist       : Factor w/ 116 levels \"Aimee Mann\",\"Alabama Shakes\",..: 1 2 3 4 5 6 7 8 9 10 ...\n",
      " $ Year         : int  2008 2013 2009 2009 2007 2009 2010 2009 2003 2008 ...\n",
      " $ Month        : Factor w/ 6 levels \"December\",\"February\",..: 4 2 3 5 4 4 3 4 3 5 ...\n",
      " $ Season       : Factor w/ 2 levels \"fall\",\"winter\": 1 2 2 1 1 1 2 1 2 1 ...\n",
      " $ Gender       : Factor w/ 2 levels \"F\",\"M\": 1 1 2 2 1 2 2 2 2 1 ...\n",
      " $ Age          : int  52 24 75 39 33 62 37 35 43 67 ...\n",
      " $ Age.Group    : Factor w/ 4 levels \"Fifties or Older\",..: 1 4 1 3 3 1 3 3 2 1 ...\n",
      " $ Grammy       : Factor w/ 2 levels \"N\",\"Y\": 2 1 1 1 2 2 1 1 2 1 ...\n",
      " $ Genre        : Factor w/ 4 levels \"Country\",\"Jazz/Blues\",..: 4 3 2 3 3 1 3 3 3 2 ...\n",
      " $ BB.wk.top10  : int  0 1 NA 1 1 0 1 NA 1 0 ...\n",
      " $ Twitter      : int  101870 73313 308634 56343 404439 3326 125758 8197 158647 690 ...\n",
      " $ Twitter.100k : int  1 0 1 0 1 0 1 0 1 0 ...\n",
      " $ Facebook     : int  113576 298278 10721 318313 1711685 27321 563505 18955 1381051 1715 ...\n",
      " $ Facebook.100k: int  1 1 0 1 1 0 1 0 1 0 ...\n"
     ]
    }
   ],
   "source": [
    "str(acl)"
   ]
  },
  {
   "cell_type": "markdown",
   "metadata": {},
   "source": [
    "How many of the first 10 artists in the dataset were Grammy winners?"
   ]
  },
  {
   "cell_type": "code",
   "execution_count": 3,
   "metadata": {},
   "outputs": [
    {
     "data": {
      "text/html": [
       "<table>\n",
       "<caption>A data.frame: 4 × 14</caption>\n",
       "<thead>\n",
       "\t<tr><th></th><th scope=col>Artist</th><th scope=col>Year</th><th scope=col>Month</th><th scope=col>Season</th><th scope=col>Gender</th><th scope=col>Age</th><th scope=col>Age.Group</th><th scope=col>Grammy</th><th scope=col>Genre</th><th scope=col>BB.wk.top10</th><th scope=col>Twitter</th><th scope=col>Twitter.100k</th><th scope=col>Facebook</th><th scope=col>Facebook.100k</th></tr>\n",
       "\t<tr><th></th><th scope=col>&lt;fct&gt;</th><th scope=col>&lt;int&gt;</th><th scope=col>&lt;fct&gt;</th><th scope=col>&lt;fct&gt;</th><th scope=col>&lt;fct&gt;</th><th scope=col>&lt;int&gt;</th><th scope=col>&lt;fct&gt;</th><th scope=col>&lt;fct&gt;</th><th scope=col>&lt;fct&gt;</th><th scope=col>&lt;int&gt;</th><th scope=col>&lt;int&gt;</th><th scope=col>&lt;int&gt;</th><th scope=col>&lt;int&gt;</th><th scope=col>&lt;int&gt;</th></tr>\n",
       "</thead>\n",
       "<tbody>\n",
       "\t<tr><th scope=row>1</th><td>Aimee Mann         </td><td>2008</td><td>November</td><td>fall  </td><td>F</td><td>52</td><td>Fifties or Older</td><td>Y</td><td>Singer-Songwriter</td><td>0</td><td>101870</td><td>1</td><td> 113576</td><td>1</td></tr>\n",
       "\t<tr><th scope=row>5</th><td>Arcade Fire        </td><td>2007</td><td>November</td><td>fall  </td><td>F</td><td>33</td><td>Thirties        </td><td>Y</td><td>Rock/Folk/Indie  </td><td>1</td><td>404439</td><td>1</td><td>1711685</td><td>1</td></tr>\n",
       "\t<tr><th scope=row>6</th><td>Asleep at the Wheel</td><td>2009</td><td>November</td><td>fall  </td><td>M</td><td>62</td><td>Fifties or Older</td><td>Y</td><td>Country          </td><td>0</td><td>  3326</td><td>0</td><td>  27321</td><td>0</td></tr>\n",
       "\t<tr><th scope=row>9</th><td>Beck               </td><td>2003</td><td>January </td><td>winter</td><td>M</td><td>43</td><td>Forties         </td><td>Y</td><td>Rock/Folk/Indie  </td><td>1</td><td>158647</td><td>1</td><td>1381051</td><td>1</td></tr>\n",
       "</tbody>\n",
       "</table>\n"
      ],
      "text/latex": [
       "A data.frame: 4 × 14\n",
       "\\begin{tabular}{r|llllllllllllll}\n",
       "  & Artist & Year & Month & Season & Gender & Age & Age.Group & Grammy & Genre & BB.wk.top10 & Twitter & Twitter.100k & Facebook & Facebook.100k\\\\\n",
       "  & <fct> & <int> & <fct> & <fct> & <fct> & <int> & <fct> & <fct> & <fct> & <int> & <int> & <int> & <int> & <int>\\\\\n",
       "\\hline\n",
       "\t1 & Aimee Mann          & 2008 & November & fall   & F & 52 & Fifties or Older & Y & Singer-Songwriter & 0 & 101870 & 1 &  113576 & 1\\\\\n",
       "\t5 & Arcade Fire         & 2007 & November & fall   & F & 33 & Thirties         & Y & Rock/Folk/Indie   & 1 & 404439 & 1 & 1711685 & 1\\\\\n",
       "\t6 & Asleep at the Wheel & 2009 & November & fall   & M & 62 & Fifties or Older & Y & Country           & 0 &   3326 & 0 &   27321 & 0\\\\\n",
       "\t9 & Beck                & 2003 & January  & winter & M & 43 & Forties          & Y & Rock/Folk/Indie   & 1 & 158647 & 1 & 1381051 & 1\\\\\n",
       "\\end{tabular}\n"
      ],
      "text/markdown": [
       "\n",
       "A data.frame: 4 × 14\n",
       "\n",
       "| <!--/--> | Artist &lt;fct&gt; | Year &lt;int&gt; | Month &lt;fct&gt; | Season &lt;fct&gt; | Gender &lt;fct&gt; | Age &lt;int&gt; | Age.Group &lt;fct&gt; | Grammy &lt;fct&gt; | Genre &lt;fct&gt; | BB.wk.top10 &lt;int&gt; | Twitter &lt;int&gt; | Twitter.100k &lt;int&gt; | Facebook &lt;int&gt; | Facebook.100k &lt;int&gt; |\n",
       "|---|---|---|---|---|---|---|---|---|---|---|---|---|---|---|\n",
       "| 1 | Aimee Mann          | 2008 | November | fall   | F | 52 | Fifties or Older | Y | Singer-Songwriter | 0 | 101870 | 1 |  113576 | 1 |\n",
       "| 5 | Arcade Fire         | 2007 | November | fall   | F | 33 | Thirties         | Y | Rock/Folk/Indie   | 1 | 404439 | 1 | 1711685 | 1 |\n",
       "| 6 | Asleep at the Wheel | 2009 | November | fall   | M | 62 | Fifties or Older | Y | Country           | 0 |   3326 | 0 |   27321 | 0 |\n",
       "| 9 | Beck                | 2003 | January  | winter | M | 43 | Forties          | Y | Rock/Folk/Indie   | 1 | 158647 | 1 | 1381051 | 1 |\n",
       "\n"
      ],
      "text/plain": [
       "  Artist              Year Month    Season Gender Age Age.Group        Grammy\n",
       "1 Aimee Mann          2008 November fall   F      52  Fifties or Older Y     \n",
       "5 Arcade Fire         2007 November fall   F      33  Thirties         Y     \n",
       "6 Asleep at the Wheel 2009 November fall   M      62  Fifties or Older Y     \n",
       "9 Beck                2003 January  winter M      43  Forties          Y     \n",
       "  Genre             BB.wk.top10 Twitter Twitter.100k Facebook Facebook.100k\n",
       "1 Singer-Songwriter 0           101870  1             113576  1            \n",
       "5 Rock/Folk/Indie   1           404439  1            1711685  1            \n",
       "6 Country           0             3326  0              27321  0            \n",
       "9 Rock/Folk/Indie   1           158647  1            1381051  1            "
      ]
     },
     "metadata": {},
     "output_type": "display_data"
    }
   ],
   "source": [
    "first10art<-acl[1:10,]\n",
    "first10gram <-first10art[first10art$Grammy == \"Y\",]\n",
    "first10gram"
   ]
  },
  {
   "cell_type": "markdown",
   "metadata": {},
   "source": [
    "What genre was played by the first female artist in the dataset who was over 60 years of age?"
   ]
  },
  {
   "cell_type": "code",
   "execution_count": 4,
   "metadata": {},
   "outputs": [
    {
     "data": {
      "text/html": [
       "<table>\n",
       "<caption>A data.frame: 6 × 14</caption>\n",
       "<thead>\n",
       "\t<tr><th></th><th scope=col>Artist</th><th scope=col>Year</th><th scope=col>Month</th><th scope=col>Season</th><th scope=col>Gender</th><th scope=col>Age</th><th scope=col>Age.Group</th><th scope=col>Grammy</th><th scope=col>Genre</th><th scope=col>BB.wk.top10</th><th scope=col>Twitter</th><th scope=col>Twitter.100k</th><th scope=col>Facebook</th><th scope=col>Facebook.100k</th></tr>\n",
       "\t<tr><th></th><th scope=col>&lt;fct&gt;</th><th scope=col>&lt;int&gt;</th><th scope=col>&lt;fct&gt;</th><th scope=col>&lt;fct&gt;</th><th scope=col>&lt;fct&gt;</th><th scope=col>&lt;int&gt;</th><th scope=col>&lt;fct&gt;</th><th scope=col>&lt;fct&gt;</th><th scope=col>&lt;fct&gt;</th><th scope=col>&lt;int&gt;</th><th scope=col>&lt;int&gt;</th><th scope=col>&lt;int&gt;</th><th scope=col>&lt;int&gt;</th><th scope=col>&lt;int&gt;</th></tr>\n",
       "</thead>\n",
       "<tbody>\n",
       "\t<tr><th scope=row>1</th><td>Aimee Mann    </td><td>2008</td><td>November</td><td>fall  </td><td>F</td><td>52</td><td>Fifties or Older</td><td>Y</td><td>Singer-Songwriter</td><td>0</td><td>101870</td><td>1</td><td> 113576</td><td>1</td></tr>\n",
       "\t<tr><th scope=row>2</th><td>Alabama Shakes</td><td>2013</td><td>February</td><td>winter</td><td>F</td><td>24</td><td>Twenties        </td><td>N</td><td>Rock/Folk/Indie  </td><td>1</td><td> 73313</td><td>0</td><td> 298278</td><td>1</td></tr>\n",
       "\t<tr><th scope=row>5</th><td>Arcade Fire   </td><td>2007</td><td>November</td><td>fall  </td><td>F</td><td>33</td><td>Thirties        </td><td>Y</td><td>Rock/Folk/Indie  </td><td>1</td><td>404439</td><td>1</td><td>1711685</td><td>1</td></tr>\n",
       "\t<tr><th scope=row>10</th><td>Bettye Lavette</td><td>2008</td><td>October </td><td>fall  </td><td>F</td><td>67</td><td>Fifties or Older</td><td>N</td><td>Jazz/Blues       </td><td>0</td><td>   690</td><td>0</td><td>   1715</td><td>0</td></tr>\n",
       "\t<tr><th scope=row>11</th><td>Bjork         </td><td>2007</td><td>October </td><td>fall  </td><td>F</td><td>47</td><td>Forties         </td><td>N</td><td>Singer-Songwriter</td><td>1</td><td>450096</td><td>1</td><td>2754505</td><td>1</td></tr>\n",
       "\t<tr><th scope=row>17</th><td>Bonnie Rait   </td><td>2012</td><td>November</td><td>fall  </td><td>F</td><td>63</td><td>Fifties or Older</td><td>Y</td><td>Country          </td><td>1</td><td> 18683</td><td>0</td><td> 357770</td><td>1</td></tr>\n",
       "</tbody>\n",
       "</table>\n"
      ],
      "text/latex": [
       "A data.frame: 6 × 14\n",
       "\\begin{tabular}{r|llllllllllllll}\n",
       "  & Artist & Year & Month & Season & Gender & Age & Age.Group & Grammy & Genre & BB.wk.top10 & Twitter & Twitter.100k & Facebook & Facebook.100k\\\\\n",
       "  & <fct> & <int> & <fct> & <fct> & <fct> & <int> & <fct> & <fct> & <fct> & <int> & <int> & <int> & <int> & <int>\\\\\n",
       "\\hline\n",
       "\t1 & Aimee Mann     & 2008 & November & fall   & F & 52 & Fifties or Older & Y & Singer-Songwriter & 0 & 101870 & 1 &  113576 & 1\\\\\n",
       "\t2 & Alabama Shakes & 2013 & February & winter & F & 24 & Twenties         & N & Rock/Folk/Indie   & 1 &  73313 & 0 &  298278 & 1\\\\\n",
       "\t5 & Arcade Fire    & 2007 & November & fall   & F & 33 & Thirties         & Y & Rock/Folk/Indie   & 1 & 404439 & 1 & 1711685 & 1\\\\\n",
       "\t10 & Bettye Lavette & 2008 & October  & fall   & F & 67 & Fifties or Older & N & Jazz/Blues        & 0 &    690 & 0 &    1715 & 0\\\\\n",
       "\t11 & Bjork          & 2007 & October  & fall   & F & 47 & Forties          & N & Singer-Songwriter & 1 & 450096 & 1 & 2754505 & 1\\\\\n",
       "\t17 & Bonnie Rait    & 2012 & November & fall   & F & 63 & Fifties or Older & Y & Country           & 1 &  18683 & 0 &  357770 & 1\\\\\n",
       "\\end{tabular}\n"
      ],
      "text/markdown": [
       "\n",
       "A data.frame: 6 × 14\n",
       "\n",
       "| <!--/--> | Artist &lt;fct&gt; | Year &lt;int&gt; | Month &lt;fct&gt; | Season &lt;fct&gt; | Gender &lt;fct&gt; | Age &lt;int&gt; | Age.Group &lt;fct&gt; | Grammy &lt;fct&gt; | Genre &lt;fct&gt; | BB.wk.top10 &lt;int&gt; | Twitter &lt;int&gt; | Twitter.100k &lt;int&gt; | Facebook &lt;int&gt; | Facebook.100k &lt;int&gt; |\n",
       "|---|---|---|---|---|---|---|---|---|---|---|---|---|---|---|\n",
       "| 1 | Aimee Mann     | 2008 | November | fall   | F | 52 | Fifties or Older | Y | Singer-Songwriter | 0 | 101870 | 1 |  113576 | 1 |\n",
       "| 2 | Alabama Shakes | 2013 | February | winter | F | 24 | Twenties         | N | Rock/Folk/Indie   | 1 |  73313 | 0 |  298278 | 1 |\n",
       "| 5 | Arcade Fire    | 2007 | November | fall   | F | 33 | Thirties         | Y | Rock/Folk/Indie   | 1 | 404439 | 1 | 1711685 | 1 |\n",
       "| 10 | Bettye Lavette | 2008 | October  | fall   | F | 67 | Fifties or Older | N | Jazz/Blues        | 0 |    690 | 0 |    1715 | 0 |\n",
       "| 11 | Bjork          | 2007 | October  | fall   | F | 47 | Forties          | N | Singer-Songwriter | 1 | 450096 | 1 | 2754505 | 1 |\n",
       "| 17 | Bonnie Rait    | 2012 | November | fall   | F | 63 | Fifties or Older | Y | Country           | 1 |  18683 | 0 |  357770 | 1 |\n",
       "\n"
      ],
      "text/plain": [
       "   Artist         Year Month    Season Gender Age Age.Group        Grammy\n",
       "1  Aimee Mann     2008 November fall   F      52  Fifties or Older Y     \n",
       "2  Alabama Shakes 2013 February winter F      24  Twenties         N     \n",
       "5  Arcade Fire    2007 November fall   F      33  Thirties         Y     \n",
       "10 Bettye Lavette 2008 October  fall   F      67  Fifties or Older N     \n",
       "11 Bjork          2007 October  fall   F      47  Forties          N     \n",
       "17 Bonnie Rait    2012 November fall   F      63  Fifties or Older Y     \n",
       "   Genre             BB.wk.top10 Twitter Twitter.100k Facebook Facebook.100k\n",
       "1  Singer-Songwriter 0           101870  1             113576  1            \n",
       "2  Rock/Folk/Indie   1            73313  0             298278  1            \n",
       "5  Rock/Folk/Indie   1           404439  1            1711685  1            \n",
       "10 Jazz/Blues        0              690  0               1715  0            \n",
       "11 Singer-Songwriter 1           450096  1            2754505  1            \n",
       "17 Country           1            18683  0             357770  1            "
      ]
     },
     "metadata": {},
     "output_type": "display_data"
    }
   ],
   "source": [
    "aclfemale <-acl[acl$Gender == \"F\",]\n",
    "head(aclfemale)"
   ]
  },
  {
   "cell_type": "markdown",
   "metadata": {},
   "source": [
    "Create a subset of the data for artists age 30 or older."
   ]
  },
  {
   "cell_type": "code",
   "execution_count": 5,
   "metadata": {},
   "outputs": [],
   "source": [
    "older <-acl[acl$Age>=30,]"
   ]
  },
  {
   "cell_type": "markdown",
   "metadata": {},
   "source": [
    "Create a table to show the marginal distribution for each variable. "
   ]
  },
  {
   "cell_type": "code",
   "execution_count": 6,
   "metadata": {},
   "outputs": [
    {
     "data": {
      "text/plain": [
       "\n",
       "          Country        Jazz/Blues   Rock/Folk/Indie Singer-Songwriter \n",
       "               17                11                61                13 "
      ]
     },
     "metadata": {},
     "output_type": "display_data"
    }
   ],
   "source": [
    "genre <- table(older$Genre)\n",
    "genre"
   ]
  },
  {
   "cell_type": "code",
   "execution_count": 7,
   "metadata": {},
   "outputs": [
    {
     "data": {
      "text/plain": [
       "\n",
       " F  M \n",
       "25 77 "
      ]
     },
     "metadata": {},
     "output_type": "display_data"
    }
   ],
   "source": [
    "gender <- table(older$Gender)\n",
    "gender"
   ]
  },
  {
   "cell_type": "markdown",
   "metadata": {},
   "source": [
    "Create a contingency table to show the conditional distribution for gender and genre."
   ]
  },
  {
   "cell_type": "code",
   "execution_count": 8,
   "metadata": {},
   "outputs": [
    {
     "data": {
      "text/plain": [
       "   \n",
       "    Country Jazz/Blues Rock/Folk/Indie Singer-Songwriter\n",
       "  F       6          4               8                 7\n",
       "  M      11          7              53                 6"
      ]
     },
     "metadata": {},
     "output_type": "display_data"
    }
   ],
   "source": [
    "twoway <- table(older$Gender,older$Genre)\n",
    "twoway"
   ]
  },
  {
   "cell_type": "markdown",
   "metadata": {},
   "source": [
    "Make a bar chart to better visualize how many male and female artists played in each genre."
   ]
  },
  {
   "cell_type": "code",
   "execution_count": 9,
   "metadata": {},
   "outputs": [
    {
     "data": {
      "image/png": "[encoded data removed]",
      "text/plain": [
       "plot without title"
      ]
     },
     "metadata": {
      "image/png": {
       "height": 420,
       "width": 420
      },
      "text/plain": {
       "height": 420,
       "width": 420
      }
     },
     "output_type": "display_data"
    }
   ],
   "source": [
    "barplot(twoway, legend=T, beside=T)"
   ]
  },
  {
   "cell_type": "markdown",
   "metadata": {},
   "source": [
    "Calculate P(A):  the probability of each type of music (genre) being played."
   ]
  },
  {
   "cell_type": "code",
   "execution_count": 10,
   "metadata": {},
   "outputs": [
    {
     "data": {
      "text/plain": [
       "\n",
       "          Country        Jazz/Blues   Rock/Folk/Indie Singer-Songwriter \n",
       "        0.1666667         0.1078431         0.5980392         0.1274510 "
      ]
     },
     "metadata": {},
     "output_type": "display_data"
    }
   ],
   "source": [
    "prop.table(genre)"
   ]
  },
  {
   "cell_type": "markdown",
   "metadata": {},
   "source": [
    "Calculate P(A|B): the probability of each genre being played, given the artist’s gender"
   ]
  },
  {
   "cell_type": "code",
   "execution_count": 11,
   "metadata": {},
   "outputs": [
    {
     "data": {
      "text/plain": [
       "   \n",
       "       Country Jazz/Blues Rock/Folk/Indie Singer-Songwriter\n",
       "  F 0.24000000 0.16000000      0.32000000        0.28000000\n",
       "  M 0.14285714 0.09090909      0.68831169        0.07792208"
      ]
     },
     "metadata": {},
     "output_type": "display_data"
    }
   ],
   "source": [
    "#The number 1 references the first variable (gender) listed in the contingency table code.\n",
    "#Proportion row 100%\n",
    "prop.table(twoway,1)"
   ]
  },
  {
   "cell_type": "code",
   "execution_count": 12,
   "metadata": {},
   "outputs": [
    {
     "data": {
      "text/plain": [
       "   \n",
       "      Country Jazz/Blues Rock/Folk/Indie Singer-Songwriter\n",
       "  F 0.3529412  0.3636364       0.1311475         0.5384615\n",
       "  M 0.6470588  0.6363636       0.8688525         0.4615385"
      ]
     },
     "metadata": {},
     "output_type": "display_data"
    }
   ],
   "source": [
    "#The number 2 reference hte second variable (genre) listed in the contingency table code.\n",
    "#Proportion column 100%\n",
    "prop.table(twoway,2)"
   ]
  },
  {
   "cell_type": "markdown",
   "metadata": {},
   "source": [
    "How many male artists are in the 30+ year old artist subset of the Austin City Limits dataset?"
   ]
  },
  {
   "cell_type": "code",
   "execution_count": 13,
   "metadata": {},
   "outputs": [
    {
     "name": "stdout",
     "output_type": "stream",
     "text": [
      "'data.frame':\t87 obs. of  14 variables:\n",
      " $ Artist       : Factor w/ 116 levels \"Aimee Mann\",\"Alabama Shakes\",..: 2 3 5 6 7 8 11 12 13 14 ...\n",
      " $ Year         : int  2013 2009 2007 2009 2010 2009 2007 2012 2007 2006 ...\n",
      " $ Month        : Factor w/ 6 levels \"December\",\"February\",..: 2 3 4 4 3 4 5 3 1 3 ...\n",
      " $ Season       : Factor w/ 2 levels \"fall\",\"winter\": 2 2 1 1 2 1 1 2 2 2 ...\n",
      " $ Gender       : Factor w/ 2 levels \"F\",\"M\": 1 2 1 2 2 2 1 2 2 2 ...\n",
      " $ Age          : int  24 75 33 62 37 35 47 49 31 46 ...\n",
      " $ Age.Group    : Factor w/ 4 levels \"Fifties or Older\",..: 4 1 3 1 3 3 2 2 3 2 ...\n",
      " $ Grammy       : Factor w/ 2 levels \"N\",\"Y\": 1 1 2 2 1 1 1 1 1 2 ...\n",
      " $ Genre        : Factor w/ 4 levels \"Country\",\"Jazz/Blues\",..: 3 2 3 1 3 3 4 2 3 3 ...\n",
      " $ BB.wk.top10  : int  1 NA 1 0 1 NA 1 0 0 1 ...\n",
      " $ Twitter      : int  73313 308634 404439 3326 125758 8197 450096 88689 114703 23244 ...\n",
      " $ Twitter.100k : int  0 1 1 0 1 0 1 0 1 0 ...\n",
      " $ Facebook     : int  298278 10721 1711685 27321 563505 18955 2754505 24866 1129035 164048 ...\n",
      " $ Facebook.100k: int  1 0 1 0 1 0 1 0 1 1 ...\n"
     ]
    }
   ],
   "source": [
    "aclmale <-acl[older$Gender == \"M\",]\n",
    "str(aclmale)"
   ]
  },
  {
   "cell_type": "markdown",
   "metadata": {},
   "source": [
    "How many female artists are in the 30+ year old artist subset of the Austin City Limits dataset?"
   ]
  },
  {
   "cell_type": "code",
   "execution_count": 14,
   "metadata": {},
   "outputs": [
    {
     "name": "stdout",
     "output_type": "stream",
     "text": [
      "'data.frame':\t35 obs. of  14 variables:\n",
      " $ Artist       : Factor w/ 116 levels \"Aimee Mann\",\"Alabama Shakes\",..: 1 2 5 10 11 17 19 22 23 32 ...\n",
      " $ Year         : int  2008 2013 2007 2008 2007 2012 2010 2008 2006 2007 ...\n",
      " $ Month        : Factor w/ 6 levels \"December\",\"February\",..: 4 2 4 5 5 4 4 5 1 3 ...\n",
      " $ Season       : Factor w/ 2 levels \"fall\",\"winter\": 1 2 1 1 1 1 1 1 2 2 ...\n",
      " $ Gender       : Factor w/ 2 levels \"F\",\"M\": 1 1 1 1 1 1 1 1 1 1 ...\n",
      " $ Age          : int  52 24 33 67 47 63 32 35 41 56 ...\n",
      " $ Age.Group    : Factor w/ 4 levels \"Fifties or Older\",..: 1 4 3 1 2 1 3 3 2 1 ...\n",
      " $ Grammy       : Factor w/ 2 levels \"N\",\"Y\": 2 1 2 1 1 2 1 1 1 2 ...\n",
      " $ Genre        : Factor w/ 4 levels \"Country\",\"Jazz/Blues\",..: 4 3 3 2 4 1 3 4 4 1 ...\n",
      " $ BB.wk.top10  : int  0 1 1 0 1 1 1 NA 1 1 ...\n",
      " $ Twitter      : int  101870 73313 404439 690 450096 18683 20549 1510 46659 624380 ...\n",
      " $ Twitter.100k : int  1 0 1 0 1 0 0 0 0 1 ...\n",
      " $ Facebook     : int  113576 298278 1711685 1715 2754505 357770 223872 8888 279644 706731 ...\n",
      " $ Facebook.100k: int  1 1 1 0 1 1 1 0 1 1 ...\n"
     ]
    }
   ],
   "source": [
    "str(aclfemale)"
   ]
  },
  {
   "cell_type": "markdown",
   "metadata": {},
   "source": [
    "The music played on Austin City Limits was grouped into four genres, including Country, Jazz, Rock and Singer-Songwriter. We wanted to examine only those artists who were age 30 or older. **Rock** was the most frequently played genre, performed by \n",
    "**59.8**% of the Austin City Limits artists. Among female artists, however, only **32.0**% of the artists played Rock music. This difference between the marginal and **conditional** probabilities suggests that gender and genre **are not** independent. This difference was also evident in the bar plots, where it was evident that females were more likely to perform in the \n",
    "**Singer-Songwriter** category than their male counterparts."
   ]
  },
  {
   "cell_type": "markdown",
   "metadata": {},
   "source": [
    "**Among male artists, is there an association between winning a Grammy and the genre of music that he plays?**"
   ]
  },
  {
   "cell_type": "markdown",
   "metadata": {},
   "source": [
    "Create a table to show the marginal distributions for Genre and Grammy."
   ]
  },
  {
   "cell_type": "code",
   "execution_count": 15,
   "metadata": {},
   "outputs": [
    {
     "data": {
      "text/plain": [
       "\n",
       " F  M \n",
       "35 81 "
      ]
     },
     "metadata": {},
     "output_type": "display_data"
    }
   ],
   "source": [
    "gendertot <- table(acl$Gender)\n",
    "gendertot"
   ]
  },
  {
   "cell_type": "code",
   "execution_count": 16,
   "metadata": {},
   "outputs": [
    {
     "data": {
      "text/plain": [
       "\n",
       " N  Y \n",
       "67 49 "
      ]
     },
     "metadata": {},
     "output_type": "display_data"
    }
   ],
   "source": [
    "grammytot <- table(acl$Grammy)\n",
    "grammytot"
   ]
  },
  {
   "cell_type": "markdown",
   "metadata": {},
   "source": [
    "Create a contingency table to show the conditional distribution for Genre and Grammy."
   ]
  },
  {
   "cell_type": "code",
   "execution_count": 17,
   "metadata": {},
   "outputs": [
    {
     "data": {
      "text/plain": [
       "   \n",
       "     N  Y\n",
       "  F 21 14\n",
       "  M 46 35"
      ]
     },
     "metadata": {},
     "output_type": "display_data"
    }
   ],
   "source": [
    "twogram <- table(acl$Gender,acl$Grammy)\n",
    "twogram"
   ]
  },
  {
   "cell_type": "markdown",
   "metadata": {},
   "source": [
    "Make a bar chart to better visualize how many artists in each Genre received a Grammy."
   ]
  },
  {
   "cell_type": "code",
   "execution_count": 40,
   "metadata": {},
   "outputs": [
    {
     "data": {
      "image/png": "[encoded data removed]",
      "text/plain": [
       "plot without title"
      ]
     },
     "metadata": {
      "image/png": {
       "height": 420,
       "width": 420
      },
      "text/plain": {
       "height": 420,
       "width": 420
      }
     },
     "output_type": "display_data"
    }
   ],
   "source": [
    "barplot(twogram, legend=T, beside=T, col = c(\"red\", \"green\"))"
   ]
  },
  {
   "cell_type": "code",
   "execution_count": 19,
   "metadata": {},
   "outputs": [
    {
     "data": {
      "text/plain": [
       "   \n",
       "    Country Jazz/Blues Rock/Folk/Indie Singer-Songwriter\n",
       "  N       6          7              42                12\n",
       "  Y      12          6              26                 5"
      ]
     },
     "metadata": {},
     "output_type": "display_data"
    }
   ],
   "source": [
    "twosong <- table(acl$Grammy,acl$Genre)\n",
    "twosong"
   ]
  },
  {
   "cell_type": "code",
   "execution_count": 20,
   "metadata": {},
   "outputs": [
    {
     "data": {
      "text/plain": [
       "   \n",
       "       Country Jazz/Blues Rock/Folk/Indie Singer-Songwriter\n",
       "  N 0.08955224 0.10447761      0.62686567        0.17910448\n",
       "  Y 0.24489796 0.12244898      0.53061224        0.10204082"
      ]
     },
     "metadata": {},
     "output_type": "display_data"
    }
   ],
   "source": [
    "prop.table(twosong,1)"
   ]
  },
  {
   "cell_type": "code",
   "execution_count": 21,
   "metadata": {},
   "outputs": [
    {
     "data": {
      "text/plain": [
       "   \n",
       "      Country Jazz/Blues Rock/Folk/Indie Singer-Songwriter\n",
       "  N 0.3333333  0.5384615       0.6176471         0.7058824\n",
       "  Y 0.6666667  0.4615385       0.3823529         0.2941176"
      ]
     },
     "metadata": {},
     "output_type": "display_data"
    }
   ],
   "source": [
    "prop.table(twosong,2)"
   ]
  },
  {
   "cell_type": "markdown",
   "metadata": {},
   "source": [
    "**Work only with male now:**"
   ]
  },
  {
   "cell_type": "code",
   "execution_count": 22,
   "metadata": {},
   "outputs": [
    {
     "data": {
      "text/plain": [
       "\n",
       " N  Y \n",
       "48 39 "
      ]
     },
     "metadata": {},
     "output_type": "display_data"
    }
   ],
   "source": [
    "grammymale <- table(aclmale$Grammy)\n",
    "grammymale"
   ]
  },
  {
   "cell_type": "code",
   "execution_count": 23,
   "metadata": {},
   "outputs": [
    {
     "data": {
      "text/plain": [
       "   \n",
       "    Country Jazz/Blues Rock/Folk/Indie Singer-Songwriter\n",
       "  N       4          6              30                 8\n",
       "  Y       9          4              22                 4"
      ]
     },
     "metadata": {},
     "output_type": "display_data"
    }
   ],
   "source": [
    "maletwosong <- table(aclmale$Grammy,aclmale$Genre)\n",
    "maletwosong"
   ]
  },
  {
   "cell_type": "code",
   "execution_count": 24,
   "metadata": {},
   "outputs": [
    {
     "data": {
      "text/plain": [
       "   \n",
       "       Country Jazz/Blues Rock/Folk/Indie Singer-Songwriter\n",
       "  N 0.08333333 0.12500000      0.62500000        0.16666667\n",
       "  Y 0.23076923 0.10256410      0.56410256        0.10256410"
      ]
     },
     "metadata": {},
     "output_type": "display_data"
    }
   ],
   "source": [
    "prop.table(maletwosong,1)"
   ]
  },
  {
   "cell_type": "code",
   "execution_count": 25,
   "metadata": {},
   "outputs": [
    {
     "data": {
      "text/plain": [
       "   \n",
       "      Country Jazz/Blues Rock/Folk/Indie Singer-Songwriter\n",
       "  N 0.3076923  0.6000000       0.5769231         0.6666667\n",
       "  Y 0.6923077  0.4000000       0.4230769         0.3333333"
      ]
     },
     "metadata": {},
     "output_type": "display_data"
    }
   ],
   "source": [
    "prop.table(maletwosong,2)"
   ]
  },
  {
   "cell_type": "markdown",
   "metadata": {},
   "source": [
    "There **is** an association between winning a Grammy and the Genre of music an artist plays. The probability of winning a Grammy, regardless of Genre, is **43.21**%. However, examination of a **contingency** table containing both Grammy and Genre showed that **the conditional** probability of winning a Grammy changes by genre. If an artist is in the Country Genre, the conditional probability of winning a Grammy is **63.64** %, while if an artist is in the **Singer-Songwriter** Genre, the conditional probability of winning a Grammy is 28.6%. Visual examination of the barplot shows the conditional probabilities of winning a Grammy **are not equal** across Genres."
   ]
  },
  {
   "cell_type": "markdown",
   "metadata": {},
   "source": [
    "**You want to see if an artist's popularity on Facebook (whether or not they have 100,000 or more likes) has anything to do with their age.**"
   ]
  },
  {
   "cell_type": "markdown",
   "metadata": {},
   "source": [
    "How many artists in the dataset have 100,000 or more likes on Facebook?"
   ]
  },
  {
   "cell_type": "code",
   "execution_count": 26,
   "metadata": {},
   "outputs": [
    {
     "name": "stdout",
     "output_type": "stream",
     "text": [
      "'data.frame':\t85 obs. of  14 variables:\n",
      " $ Artist       : Factor w/ 116 levels \"Aimee Mann\",\"Alabama Shakes\",..: 1 2 4 5 7 9 11 13 14 16 ...\n",
      " $ Year         : int  2008 2013 2009 2007 2010 2003 2007 2007 2006 2012 ...\n",
      " $ Month        : Factor w/ 6 levels \"December\",\"February\",..: 4 2 5 4 3 3 5 1 3 5 ...\n",
      " $ Season       : Factor w/ 2 levels \"fall\",\"winter\": 1 2 1 1 2 2 1 2 2 1 ...\n",
      " $ Gender       : Factor w/ 2 levels \"F\",\"M\": 1 1 2 1 2 2 1 2 2 2 ...\n",
      " $ Age          : int  52 24 39 33 37 43 47 31 46 32 ...\n",
      " $ Age.Group    : Factor w/ 4 levels \"Fifties or Older\",..: 1 4 3 3 3 2 2 3 2 3 ...\n",
      " $ Grammy       : Factor w/ 2 levels \"N\",\"Y\": 2 1 1 2 1 2 1 1 2 2 ...\n",
      " $ Genre        : Factor w/ 4 levels \"Country\",\"Jazz/Blues\",..: 4 3 3 3 3 3 4 3 3 3 ...\n",
      " $ BB.wk.top10  : int  0 1 1 1 1 1 1 0 1 1 ...\n",
      " $ Twitter      : int  101870 73313 56343 404439 125758 158647 450096 114703 23244 367417 ...\n",
      " $ Twitter.100k : int  1 0 0 1 1 1 1 1 0 1 ...\n",
      " $ Facebook     : int  113576 298278 318313 1711685 563505 1381051 2754505 1129035 164048 1626215 ...\n",
      " $ Facebook.100k: int  1 1 1 1 1 1 1 1 1 1 ...\n"
     ]
    }
   ],
   "source": [
    "famous <-acl[acl$Facebook > 100000,]\n",
    "str(famous)"
   ]
  },
  {
   "cell_type": "markdown",
   "metadata": {},
   "source": [
    "Which age group has the highest number of artists that have 100,000 or more likes on Facebook?"
   ]
  },
  {
   "cell_type": "code",
   "execution_count": 27,
   "metadata": {},
   "outputs": [
    {
     "data": {
      "image/png": "[encoded data removed]",
      "text/plain": [
       "Plot with title \"Histogram of famous$Age\""
      ]
     },
     "metadata": {
      "image/png": {
       "height": 420,
       "width": 420
      },
      "text/plain": {
       "height": 420,
       "width": 420
      }
     },
     "output_type": "display_data"
    }
   ],
   "source": [
    "hist(famous$Age)"
   ]
  },
  {
   "cell_type": "code",
   "execution_count": 28,
   "metadata": {},
   "outputs": [
    {
     "data": {
      "text/plain": [
       "   Min. 1st Qu.  Median    Mean 3rd Qu.    Max. \n",
       "  23.00   34.00   40.00   41.66   47.00   80.00 "
      ]
     },
     "metadata": {},
     "output_type": "display_data"
    }
   ],
   "source": [
    "summary(famous$Age)"
   ]
  },
  {
   "cell_type": "code",
   "execution_count": 29,
   "metadata": {},
   "outputs": [
    {
     "data": {
      "image/png": "[encoded data removed]",
      "text/plain": [
       "plot without title"
      ]
     },
     "metadata": {
      "image/png": {
       "height": 420,
       "width": 420
      },
      "text/plain": {
       "height": 420,
       "width": 420
      }
     },
     "output_type": "display_data"
    }
   ],
   "source": [
    "boxplot(famous$Age)"
   ]
  },
  {
   "cell_type": "markdown",
   "metadata": {},
   "source": [
    "For each age group, fill in the proportion of artists who have 100,000 or more likes on Facebook."
   ]
  },
  {
   "cell_type": "code",
   "execution_count": 30,
   "metadata": {},
   "outputs": [],
   "source": [
    "twenties <-famous[famous$Age < 30,]\n",
    "thirties <-famous[famous$Age > 29 & famous$Age < 40,]\n",
    "forties <-famous[famous$Age > 39 & famous$Age < 50,]\n",
    "fiftiesolder <-famous[famous$Age > 49,]"
   ]
  },
  {
   "cell_type": "code",
   "execution_count": 31,
   "metadata": {},
   "outputs": [
    {
     "name": "stdout",
     "output_type": "stream",
     "text": [
      "'data.frame':\t11 obs. of  14 variables:\n",
      " $ Artist       : Factor w/ 116 levels \"Aimee Mann\",\"Alabama Shakes\",..: 2 35 38 41 43 46 66 68 72 74 ...\n",
      " $ Year         : int  2013 2009 2013 2012 2012 2013 2012 2012 2011 2011 ...\n",
      " $ Month        : Factor w/ 6 levels \"December\",\"February\",..: 2 2 2 3 3 2 5 3 4 5 ...\n",
      " $ Season       : Factor w/ 2 levels \"fall\",\"winter\": 2 2 2 2 2 2 1 2 1 1 ...\n",
      " $ Gender       : Factor w/ 2 levels \"F\",\"M\": 1 1 1 2 1 2 1 1 1 2 ...\n",
      " $ Age          : int  24 29 28 27 26 29 23 27 29 26 ...\n",
      " $ Age.Group    : Factor w/ 4 levels \"Fifties or Older\",..: 4 4 4 4 4 4 4 4 4 4 ...\n",
      " $ Grammy       : Factor w/ 2 levels \"N\",\"Y\": 1 2 2 1 1 1 2 1 2 2 ...\n",
      " $ Genre        : Factor w/ 4 levels \"Country\",\"Jazz/Blues\",..: 3 2 2 3 3 3 3 4 1 3 ...\n",
      " $ BB.wk.top10  : int  1 1 1 1 1 1 0 0 1 0 ...\n",
      " $ Twitter      : int  73313 21245 51406 NA 657786 37651 129416 106202 2583357 360753 ...\n",
      " $ Twitter.100k : int  0 0 0 NA 1 0 1 1 1 1 ...\n",
      " $ Facebook     : int  298278 829939 236678 915459 4205054 154610 417953 1057184 5015090 4326053 ...\n",
      " $ Facebook.100k: int  1 1 1 1 1 1 1 1 1 1 ...\n"
     ]
    }
   ],
   "source": [
    "str(twenties)"
   ]
  },
  {
   "cell_type": "code",
   "execution_count": 32,
   "metadata": {},
   "outputs": [
    {
     "name": "stdout",
     "output_type": "stream",
     "text": [
      "'data.frame':\t31 obs. of  14 variables:\n",
      " $ Artist       : Factor w/ 116 levels \"Aimee Mann\",\"Alabama Shakes\",..: 4 5 7 13 16 19 25 29 31 33 ...\n",
      " $ Year         : int  2009 2007 2010 2007 2012 2010 2005 2006 2008 2012 ...\n",
      " $ Month        : Factor w/ 6 levels \"December\",\"February\",..: 5 4 3 1 5 4 1 2 3 5 ...\n",
      " $ Season       : Factor w/ 2 levels \"fall\",\"winter\": 1 1 2 2 1 1 2 2 2 1 ...\n",
      " $ Gender       : Factor w/ 2 levels \"F\",\"M\": 2 1 2 2 2 1 2 2 2 2 ...\n",
      " $ Age          : int  39 33 37 31 32 32 36 36 37 35 ...\n",
      " $ Age.Group    : Factor w/ 4 levels \"Fifties or Older\",..: 3 3 3 3 3 3 3 3 3 3 ...\n",
      " $ Grammy       : Factor w/ 2 levels \"N\",\"Y\": 1 2 1 1 2 1 2 1 1 1 ...\n",
      " $ Genre        : Factor w/ 4 levels \"Country\",\"Jazz/Blues\",..: 3 3 3 3 3 3 3 3 1 3 ...\n",
      " $ BB.wk.top10  : int  1 1 1 0 1 1 1 1 1 0 ...\n",
      " $ Twitter      : int  56343 404439 125758 114703 367417 20549 10666531 112030 668136 26928 ...\n",
      " $ Twitter.100k : int  0 1 1 1 1 0 1 1 1 0 ...\n",
      " $ Facebook     : int  318313 1711685 563505 1129035 1626215 223872 28243550 2156318 1671922 149930 ...\n",
      " $ Facebook.100k: int  1 1 1 1 1 1 1 1 1 1 ...\n"
     ]
    }
   ],
   "source": [
    "str(thirties)"
   ]
  },
  {
   "cell_type": "code",
   "execution_count": 33,
   "metadata": {},
   "outputs": [
    {
     "name": "stdout",
     "output_type": "stream",
     "text": [
      "'data.frame':\t24 obs. of  14 variables:\n",
      " $ Artist       : Factor w/ 116 levels \"Aimee Mann\",\"Alabama Shakes\",..: 9 11 14 18 20 21 23 27 34 45 ...\n",
      " $ Year         : int  2003 2007 2006 2008 2006 2006 2006 2009 2009 2009 ...\n",
      " $ Month        : Factor w/ 6 levels \"December\",\"February\",..: 3 5 3 3 3 4 1 5 2 3 ...\n",
      " $ Season       : Factor w/ 2 levels \"fall\",\"winter\": 2 1 2 2 2 1 2 1 2 2 ...\n",
      " $ Gender       : Factor w/ 2 levels \"F\",\"M\": 2 1 2 2 2 2 1 2 2 2 ...\n",
      " $ Age          : int  43 47 46 40 45 47 41 46 49 44 ...\n",
      " $ Age.Group    : Factor w/ 4 levels \"Fifties or Older\",..: 2 2 2 2 2 2 2 2 2 2 ...\n",
      " $ Grammy       : Factor w/ 2 levels \"N\",\"Y\": 2 1 2 2 2 1 1 2 1 2 ...\n",
      " $ Genre        : Factor w/ 4 levels \"Country\",\"Jazz/Blues\",..: 3 4 3 1 3 3 4 3 1 3 ...\n",
      " $ BB.wk.top10  : int  1 1 1 1 NA 0 1 1 0 1 ...\n",
      " $ Twitter      : int  158647 450096 23244 1787221 962232 NA 46659 264123 24404 1270069 ...\n",
      " $ Twitter.100k : int  1 1 0 1 1 NA 0 1 0 1 ...\n",
      " $ Facebook     : int  1381051 2754505 164048 5429471 497452 119103 279644 3005593 124719 8957993 ...\n",
      " $ Facebook.100k: int  1 1 1 1 1 1 1 1 1 1 ...\n"
     ]
    }
   ],
   "source": [
    "str(forties)"
   ]
  },
  {
   "cell_type": "code",
   "execution_count": 34,
   "metadata": {},
   "outputs": [
    {
     "name": "stdout",
     "output_type": "stream",
     "text": [
      "'data.frame':\t19 obs. of  14 variables:\n",
      " $ Artist       : Factor w/ 116 levels \"Aimee Mann\",\"Alabama Shakes\",..: 1 17 24 26 28 32 37 42 59 60 ...\n",
      " $ Year         : int  2008 2012 2011 2008 2002 2007 2009 2011 2011 2010 ...\n",
      " $ Month        : Factor w/ 6 levels \"December\",\"February\",..: 4 4 3 3 3 3 4 5 4 5 ...\n",
      " $ Season       : Factor w/ 2 levels \"fall\",\"winter\": 1 1 2 2 2 2 1 1 1 1 ...\n",
      " $ Gender       : Factor w/ 2 levels \"F\",\"M\": 1 1 2 2 2 1 2 2 1 2 ...\n",
      " $ Age          : int  52 63 60 55 61 56 58 51 63 65 ...\n",
      " $ Age.Group    : Factor w/ 4 levels \"Fifties or Older\",..: 1 1 1 1 1 1 1 1 1 1 ...\n",
      " $ Grammy       : Factor w/ 2 levels \"N\",\"Y\": 2 2 1 1 2 2 2 1 1 2 ...\n",
      " $ Genre        : Factor w/ 4 levels \"Country\",\"Jazz/Blues\",..: 4 1 3 3 3 1 3 3 1 2 ...\n",
      " $ BB.wk.top10  : int  0 1 0 0 0 1 0 1 0 0 ...\n",
      " $ Twitter      : int  101870 18683 40682 8981 NA 624380 47947 39893 46193 7114 ...\n",
      " $ Twitter.100k : int  1 0 0 0 NA 1 0 0 0 0 ...\n",
      " $ Facebook     : int  113576 357770 529395 135089 113310 706731 414473 1118950 141809 175356 ...\n",
      " $ Facebook.100k: int  1 1 1 1 1 1 1 1 1 1 ...\n"
     ]
    }
   ],
   "source": [
    "str(fiftiesolder)"
   ]
  },
  {
   "cell_type": "code",
   "execution_count": 35,
   "metadata": {},
   "outputs": [
    {
     "data": {
      "text/html": [
       "<style>\n",
       ".list-inline {list-style: none; margin:0; padding: 0}\n",
       ".list-inline>li {display: inline-block}\n",
       ".list-inline>li:not(:last-child)::after {content: \"\\00b7\"; padding: 0 .5ex}\n",
       "</style>\n",
       "<ol class=list-inline><li>11</li><li>31</li><li>24</li><li>19</li></ol>\n"
      ],
      "text/latex": [
       "\\begin{enumerate*}\n",
       "\\item 11\n",
       "\\item 31\n",
       "\\item 24\n",
       "\\item 19\n",
       "\\end{enumerate*}\n"
      ],
      "text/markdown": [
       "1. 11\n",
       "2. 31\n",
       "3. 24\n",
       "4. 19\n",
       "\n",
       "\n"
      ],
      "text/plain": [
       "[1] 11 31 24 19"
      ]
     },
     "metadata": {},
     "output_type": "display_data"
    }
   ],
   "source": [
    "score <- c(nrow(twenties), nrow(thirties),nrow(forties),nrow(fiftiesolder))\n",
    "score"
   ]
  },
  {
   "cell_type": "code",
   "execution_count": 36,
   "metadata": {},
   "outputs": [
    {
     "data": {
      "text/html": [
       "85"
      ],
      "text/latex": [
       "85"
      ],
      "text/markdown": [
       "85"
      ],
      "text/plain": [
       "[1] 85"
      ]
     },
     "metadata": {},
     "output_type": "display_data"
    }
   ],
   "source": [
    "sum(score)"
   ]
  },
  {
   "cell_type": "code",
   "execution_count": 39,
   "metadata": {},
   "outputs": [
    {
     "data": {
      "image/png": "[encoded data removed]",
      "text/plain": [
       "Plot with title \"Artists who have 100,000 or more likes on Facebook\""
      ]
     },
     "metadata": {
      "image/png": {
       "height": 420,
       "width": 420
      },
      "text/plain": {
       "height": 420,
       "width": 420
      }
     },
     "output_type": "display_data"
    }
   ],
   "source": [
    "barplot(score, names.arg = c(\"twenties\", \"thirties\", \"forties\", \"fiftiesolder\"), main = \"Artists who have 100,000 or more likes on Facebook\")"
   ]
  },
  {
   "cell_type": "code",
   "execution_count": null,
   "metadata": {},
   "outputs": [],
   "source": []
  }
 ],
 "metadata": {
  "kernelspec": {
   "display_name": "R",
   "language": "R",
   "name": "ir"
  },
  "language_info": {
   "codemirror_mode": "r",
   "file_extension": ".r",
   "mimetype": "text/x-r-source",
   "name": "R",
   "pygments_lexer": "r",
   "version": "3.6.3"
  }
 },
 "nbformat": 4,
 "nbformat_minor": 4
}
